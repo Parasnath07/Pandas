{
 "cells": [
  {
   "cell_type": "markdown",
   "id": "d61da1ee-7f86-42c0-ab9d-0acb714e8f24",
   "metadata": {},
   "source": [
    "# Series:"
   ]
  },
  {
   "cell_type": "code",
   "execution_count": 56,
   "id": "337b2667-020a-431d-bf8e-ad6fde552913",
   "metadata": {},
   "outputs": [],
   "source": [
    "import pandas as pd"
   ]
  },
  {
   "cell_type": "code",
   "execution_count": 12,
   "id": "e9a26e54-68ad-40a9-aba7-ea5dae1bc30b",
   "metadata": {},
   "outputs": [
    {
     "name": "stdout",
     "output_type": "stream",
     "text": [
      "0    3\n",
      "1    4\n",
      "2    5\n",
      "3    6\n",
      "4    7\n",
      "5    8\n",
      "dtype: int64\n",
      "<class 'pandas.core.series.Series'>\n",
      "5\n"
     ]
    }
   ],
   "source": [
    "x = [3,4,5,6,7,8]\n",
    "var = pd.Series(x)\n",
    "print(var)\n",
    "print(type(var))\n",
    "print(var[2])"
   ]
  },
  {
   "cell_type": "markdown",
   "id": "2634fabe-b68f-48e5-b070-bc985773ec18",
   "metadata": {},
   "source": [
    "# index change:\n"
   ]
  },
  {
   "cell_type": "code",
   "execution_count": 17,
   "id": "3556364f-3ca5-4c21-b075-b211a74457b8",
   "metadata": {},
   "outputs": [
    {
     "name": "stdout",
     "output_type": "stream",
     "text": [
      "a    3\n",
      "b    4\n",
      "c    5\n",
      "d    6\n",
      "e    7\n",
      "f    8\n",
      "dtype: int64\n"
     ]
    }
   ],
   "source": [
    "x = [3,4,5,6,7,8]\n",
    "var = pd.Series(x,index=['a','b','c','d','e','f'])\n",
    "print(var)"
   ]
  },
  {
   "cell_type": "markdown",
   "id": "111f2b34-c00e-4080-9518-8be2de7435cc",
   "metadata": {},
   "source": [
    "#change to float:"
   ]
  },
  {
   "cell_type": "code",
   "execution_count": 33,
   "id": "91685a86-dc0b-4b3e-8db5-a0a193f5da43",
   "metadata": {},
   "outputs": [
    {
     "name": "stdout",
     "output_type": "stream",
     "text": [
      "a    3.0\n",
      "b    4.0\n",
      "c    5.0\n",
      "d    6.0\n",
      "e    7.0\n",
      "f    8.0\n",
      "dtype: float64\n"
     ]
    }
   ],
   "source": [
    "x = [3,4,5,6,7,8]\n",
    "var = pd.Series(x,index=['a','b','c','d','e','f'],dtype=\"float\")\n",
    "print(var)"
   ]
  },
  {
   "cell_type": "markdown",
   "id": "8511f083-8038-4e44-8bfc-304e9df9dfe1",
   "metadata": {},
   "source": [
    "# series in Dictionary"
   ]
  },
  {
   "cell_type": "code",
   "execution_count": 47,
   "id": "4c93e4c4-99c4-4b74-a175-06f9dc9c124a",
   "metadata": {},
   "outputs": [
    {
     "name": "stdout",
     "output_type": "stream",
     "text": [
      "name    [python, c, c++, javascript]\n",
      "por                 [12, 13, 14, 15]\n",
      "rank                    [1, 2, 3, 4]\n",
      "dtype: object\n"
     ]
    }
   ],
   "source": [
    "dic = {\"name\":['python','c','c++','javascript'],\"por\":[12,13,14,15],\"rank\":[1,2,3,4]}\n",
    "var1 = pd.Series(dic)\n",
    "print(var1)"
   ]
  },
  {
   "cell_type": "markdown",
   "id": "9601a87b-822e-45e2-bd0b-10067086d9fe",
   "metadata": {},
   "source": [
    "# DataFrame"
   ]
  },
  {
   "cell_type": "markdown",
   "id": "5e6271fc-35f1-45e5-a1ae-fa75232b3ec8",
   "metadata": {},
   "source": [
    "# in list:"
   ]
  },
  {
   "cell_type": "code",
   "execution_count": 71,
   "id": "a985990f-6ab7-49c9-ae2e-0b57dfe8cb21",
   "metadata": {},
   "outputs": [
    {
     "name": "stdout",
     "output_type": "stream",
     "text": [
      "   0\n",
      "0  1\n",
      "1  2\n",
      "2  3\n",
      "3  4\n",
      "4  5\n",
      "5  6\n"
     ]
    }
   ],
   "source": [
    "import pandas as pd\n",
    "l= [1,2,3,4,5,6]\n",
    "var = pd.DataFrame(l)\n",
    "print(var)"
   ]
  },
  {
   "cell_type": "markdown",
   "id": "cc2c62cf-1f22-4df8-b3d1-f00a03772175",
   "metadata": {},
   "source": [
    "# in dictionary"
   ]
  },
  {
   "cell_type": "code",
   "execution_count": 77,
   "id": "0882828d-4625-4fa4-aff7-b0e412cc58a1",
   "metadata": {},
   "outputs": [
    {
     "name": "stdout",
     "output_type": "stream",
     "text": [
      "   a  p\n",
      "0  1  2\n",
      "1  2  3\n",
      "2  3  4\n",
      "3  4  5\n",
      "4  5  6\n"
     ]
    }
   ],
   "source": [
    "d ={\"a\":[1,2,3,4,5],\"p\":[2,3,4,5,6]}\n",
    "var1 = pd.DataFrame(d)\n",
    "print(var1)"
   ]
  },
  {
   "cell_type": "markdown",
   "id": "8ed51663-fba1-4623-b2f7-2494bbca7279",
   "metadata": {},
   "source": [
    "# particular required columns:"
   ]
  },
  {
   "cell_type": "code",
   "execution_count": 85,
   "id": "286d77d6-93fd-4dd8-9669-2d5824c7f274",
   "metadata": {},
   "outputs": [
    {
     "name": "stdout",
     "output_type": "stream",
     "text": [
      "   a\n",
      "0  1\n",
      "1  2\n",
      "2  3\n",
      "3  4\n",
      "4  5\n"
     ]
    }
   ],
   "source": [
    "d ={\"a\":[1,2,3,4,5],\"p\":[2,3,4,5,6]}\n",
    "var1 = pd.DataFrame(d,columns=[\"a\"])\n",
    "print(var1)"
   ]
  },
  {
   "cell_type": "markdown",
   "id": "157b618b-e63b-4cb3-b0ff-57b23fe041a0",
   "metadata": {},
   "source": [
    "# get particular data to columns"
   ]
  },
  {
   "cell_type": "code",
   "execution_count": 90,
   "id": "7bb52db6-a233-4011-a95c-f84d84da07a6",
   "metadata": {},
   "outputs": [
    {
     "name": "stdout",
     "output_type": "stream",
     "text": [
      "   a  p  k   1\n",
      "0  1  2  2   3\n",
      "1  2  3  6  87\n",
      "2  3  4  8  52\n",
      "3  4  5  9   5\n",
      "4  5  6  8  85\n",
      "4\n"
     ]
    }
   ],
   "source": [
    "d ={\"a\":[1,2,3,4,5],\"p\":[2,3,4,5,6],\"k\":[2,6,8,9,8],\"1\":[3,87,52,5,85]}\n",
    "var1 = pd.DataFrame(d)\n",
    "print(var1)\n",
    "print(var1[\"a\"][3])"
   ]
  },
  {
   "cell_type": "markdown",
   "id": "a8e47289-066e-44a2-9e4f-284eac6cc223",
   "metadata": {},
   "source": [
    "# in series:"
   ]
  },
  {
   "cell_type": "code",
   "execution_count": 97,
   "id": "064f8d7a-bf17-40b9-a2d6-bb1b5c31f21f",
   "metadata": {},
   "outputs": [
    {
     "name": "stdout",
     "output_type": "stream",
     "text": [
      "    s  k\n",
      "0   1  1\n",
      "1   2  8\n",
      "2  23  9\n",
      "3  25  5\n"
     ]
    }
   ],
   "source": [
    "sr= {\"s\":pd.Series([1,2,23,25]),\"k\":pd.Series([1,8,9,5])}\n",
    "var3 = pd.DataFrame(sr)\n",
    "print(var3)"
   ]
  },
  {
   "cell_type": "code",
   "execution_count": null,
   "id": "7a27a78f-bc42-406d-af57-6b3ff2d0e7b8",
   "metadata": {},
   "outputs": [],
   "source": []
  }
 ],
 "metadata": {
  "kernelspec": {
   "display_name": "Python 3 (ipykernel)",
   "language": "python",
   "name": "python3"
  },
  "language_info": {
   "codemirror_mode": {
    "name": "ipython",
    "version": 3
   },
   "file_extension": ".py",
   "mimetype": "text/x-python",
   "name": "python",
   "nbconvert_exporter": "python",
   "pygments_lexer": "ipython3",
   "version": "3.12.4"
  }
 },
 "nbformat": 4,
 "nbformat_minor": 5
}
