{
 "cells": [
  {
   "cell_type": "markdown",
   "id": "cee188cb-9148-480a-8e6d-079847b71c8e",
   "metadata": {},
   "source": [
    "# CSV file create"
   ]
  },
  {
   "cell_type": "code",
   "execution_count": 4,
   "id": "566eb9b8-5fb5-475a-b273-082e8ad6dda2",
   "metadata": {},
   "outputs": [
    {
     "name": "stdout",
     "output_type": "stream",
     "text": [
      "     a     d   g\n",
      "0   23    65  56\n",
      "1   63    23  47\n",
      "2  652  5582   4\n",
      "3  362    55  74\n",
      "4   85   555  71\n"
     ]
    }
   ],
   "source": [
    "import pandas as pd\n",
    "dis={\"a\":[23,63,652,362,85,],\"d\":[65,23,5582,55,555],\"g\":[56,47,4,74,71]}\n",
    "d=pd.DataFrame(dis)\n",
    "print(d)\n",
    "d.to_csv(\"text_new.csv\")"
   ]
  },
  {
   "cell_type": "markdown",
   "id": "82980d1f-b5a2-4d9a-a088-1b930edbdc57",
   "metadata": {},
   "source": [
    "# How to remove Row no.:"
   ]
  },
  {
   "cell_type": "code",
   "execution_count": 7,
   "id": "627f4878-a93a-44ec-a09c-4dcb071d4c80",
   "metadata": {},
   "outputs": [
    {
     "name": "stdout",
     "output_type": "stream",
     "text": [
      "     a     d   g\n",
      "0   23    65  56\n",
      "1   63    23  47\n",
      "2  652  5582   4\n",
      "3  362    55  74\n",
      "4   85   555  71\n"
     ]
    }
   ],
   "source": [
    "import pandas as pd\n",
    "dis={\"a\":[23,63,652,362,85,],\"d\":[65,23,5582,55,555],\"g\":[56,47,4,74,71]}\n",
    "d=pd.DataFrame(dis)\n",
    "print(d)\n",
    "d.to_csv(\"text_new1.csv\",index=False)"
   ]
  },
  {
   "cell_type": "markdown",
   "id": "177f8933-adcc-4a71-befa-7ac6c403bd33",
   "metadata": {},
   "source": [
    "# Change to Header:"
   ]
  },
  {
   "cell_type": "code",
   "execution_count": 21,
   "id": "fa246815-d161-4e54-87f7-9cf627000b5a",
   "metadata": {},
   "outputs": [
    {
     "name": "stdout",
     "output_type": "stream",
     "text": [
      "     a     d   g\n",
      "0   23    65  56\n",
      "1   63    23  47\n",
      "2  652  5582   4\n",
      "3  362    55  74\n",
      "4   85   555  71\n"
     ]
    }
   ],
   "source": [
    "import pandas as pd\n",
    "dis={\"a\":[23,63,652,362,85,],\"d\":[65,23,5582,55,555],\"g\":[56,47,4,74,71]}\n",
    "d=pd.DataFrame(dis)\n",
    "print(d)\n",
    "d.to_csv(\"text_new2.csv\",index=False,header=[1,2,3])"
   ]
  },
  {
   "cell_type": "markdown",
   "id": "7a4f0f49-82d0-428c-8acc-51363ec239c6",
   "metadata": {},
   "source": [
    "\n",
    "# Read python CSV file:"
   ]
  },
  {
   "cell_type": "code",
   "execution_count": null,
   "id": "ca5f8db8-dfbe-49cd-a684-a0c0c3594775",
   "metadata": {},
   "outputs": [],
   "source": [
    "\n",
    "import pandas as pd\n",
    "csv_2 = pd.read_csv(\"C:\\\\Users\\\\Paras\\\\Desktop\\\\text.csv\")\n",
    "csv_2\n",
    "\n"
   ]
  },
  {
   "cell_type": "markdown",
   "id": "88c4a16e-7166-4ae7-9b31-0dcde4262e60",
   "metadata": {},
   "source": [
    "# Particular rows"
   ]
  },
  {
   "cell_type": "code",
   "execution_count": null,
   "id": "7ffbed9c-9e8b-4e4d-a31f-5d9aa59efc0f",
   "metadata": {},
   "outputs": [],
   "source": [
    "import pandas as pd\n",
    "csv_2 = pd.read_csv(\"C:\\\\Users\\\\Paras\\\\Desktop\\\\text.csv\",nrows=1)\n",
    "csv_2\n"
   ]
  },
  {
   "cell_type": "markdown",
   "id": "f274d9db-ca51-4a13-875e-b655aef1543f",
   "metadata": {},
   "source": [
    "# Getting Particular column : "
   ]
  },
  {
   "cell_type": "code",
   "execution_count": null,
   "id": "147a8c64-856b-48d6-a12b-7c1080a71992",
   "metadata": {},
   "outputs": [],
   "source": [
    "import pandas as pd\n",
    "csv_3 = pd.read_csv(\"C:\\\\Users\\\\Paras\\\\Desktop\\\\text.csv\",usecols=[symbols])\n",
    "csv_3.\n"
   ]
  },
  {
   "cell_type": "code",
   "execution_count": null,
   "id": "50e9c1f8-20cd-4fc6-84c3-a42d356c18e6",
   "metadata": {},
   "outputs": [],
   "source": [
    "import pandas as pd\n",
    "csv_1 = pd.read_csv(\"C:\\\\Users\\\\Paras\\\\Desktop\\\\text.csv\",skiprows=0)\n",
    "csv_1"
   ]
  },
  {
   "cell_type": "code",
   "execution_count": null,
   "id": "14f0bc47-014a-43c8-9566-20e7add6dbdf",
   "metadata": {},
   "outputs": [],
   "source": [
    "\n",
    "csv_1 = pd.read_csv(\"C:\\\\Users\\\\Paras\\\\Desktop\\\\text.csv\",hearder = 2)\n",
    "csv_1"
   ]
  },
  {
   "cell_type": "markdown",
   "id": "6580a618-a935-41f1-977c-4f71a20b75d8",
   "metadata": {},
   "source": [
    "# name change:"
   ]
  },
  {
   "cell_type": "code",
   "execution_count": null,
   "id": "983329ef-d134-4392-a7a4-7cfa20dcd667",
   "metadata": {},
   "outputs": [],
   "source": [
    "import pandas as pd\n",
    "csv_4 = pd.read_csv(\"C:\\\\Users\\\\Paras\\\\Desktop\\\\text.csv\", name =[\"col1\",\"cols2\",\"cols3\"])\n",
    "csv_4"
   ]
  },
  {
   "cell_type": "markdown",
   "id": "68a663bd-5cce-4c79-a27a-712cdd8bb2dd",
   "metadata": {},
   "source": [
    "# Remove header:"
   ]
  },
  {
   "cell_type": "code",
   "execution_count": null,
   "id": "47d03817-1e9b-490b-8023-7e81247ea690",
   "metadata": {},
   "outputs": [],
   "source": [
    "\n",
    "csv_1 = pd.read_csv(\"C:\\\\Users\\\\Paras\\\\Desktop\\\\text.csv\",header= None,prefix= \"cols\")\n",
    "csv_1"
   ]
  },
  {
   "cell_type": "code",
   "execution_count": null,
   "id": "a67f4d2a-1f69-4cdc-85ec-4d2b190ac376",
   "metadata": {},
   "outputs": [],
   "source": [
    "\n",
    "csv_1 = pd.read_csv(\"C:\\\\Users\\\\Paras\\\\Desktop\\\\text.csv\",Dtype={\"column\":\"float\"})\n",
    "csv_1"
   ]
  },
  {
   "cell_type": "markdown",
   "id": "3c01912a-94f7-46d8-bb3c-60403e951780",
   "metadata": {},
   "source": [
    "# Panads Function:"
   ]
  },
  {
   "cell_type": "code",
   "execution_count": 45,
   "id": "7b5a857c-14fc-4689-a94e-f800bad1cf06",
   "metadata": {},
   "outputs": [
    {
     "data": {
      "text/html": [
       "<div>\n",
       "<style scoped>\n",
       "    .dataframe tbody tr th:only-of-type {\n",
       "        vertical-align: middle;\n",
       "    }\n",
       "\n",
       "    .dataframe tbody tr th {\n",
       "        vertical-align: top;\n",
       "    }\n",
       "\n",
       "    .dataframe thead th {\n",
       "        text-align: right;\n",
       "    }\n",
       "</style>\n",
       "<table border=\"1\" class=\"dataframe\">\n",
       "  <thead>\n",
       "    <tr style=\"text-align: right;\">\n",
       "      <th></th>\n",
       "      <th>Industry</th>\n",
       "    </tr>\n",
       "  </thead>\n",
       "  <tbody>\n",
       "    <tr>\n",
       "      <th>0</th>\n",
       "      <td>Accounting/Finance</td>\n",
       "    </tr>\n",
       "    <tr>\n",
       "      <th>1</th>\n",
       "      <td>Advertising/Public Relations</td>\n",
       "    </tr>\n",
       "    <tr>\n",
       "      <th>2</th>\n",
       "      <td>Aerospace/Aviation</td>\n",
       "    </tr>\n",
       "    <tr>\n",
       "      <th>3</th>\n",
       "      <td>Arts/Entertainment/Publishing</td>\n",
       "    </tr>\n",
       "    <tr>\n",
       "      <th>4</th>\n",
       "      <td>Automotive</td>\n",
       "    </tr>\n",
       "  </tbody>\n",
       "</table>\n",
       "</div>"
      ],
      "text/plain": [
       "                        Industry\n",
       "0             Accounting/Finance\n",
       "1   Advertising/Public Relations\n",
       "2             Aerospace/Aviation\n",
       "3  Arts/Entertainment/Publishing\n",
       "4                     Automotive"
      ]
     },
     "execution_count": 45,
     "metadata": {},
     "output_type": "execute_result"
    }
   ],
   "source": [
    "import pandas as pd\n",
    "dataset = pd.read_csv(\"C:\\\\Users\\\\Paras\\\\Downloads\\\\industry.csv\")\n",
    "dataset.head()"
   ]
  },
  {
   "cell_type": "markdown",
   "id": "f75dea5b-35ca-480f-baa6-1d2872c4ccbf",
   "metadata": {},
   "source": [
    "# dataset index"
   ]
  },
  {
   "cell_type": "code",
   "execution_count": 49,
   "id": "dc9093a2-9199-4d38-8942-82fb90935195",
   "metadata": {},
   "outputs": [
    {
     "data": {
      "text/plain": [
       "RangeIndex(start=0, stop=43, step=1)"
      ]
     },
     "execution_count": 49,
     "metadata": {},
     "output_type": "execute_result"
    }
   ],
   "source": [
    "dataset.index"
   ]
  },
  {
   "cell_type": "markdown",
   "id": "16c46c9f-db0b-469d-aa89-38a36eb9d989",
   "metadata": {},
   "source": [
    "# dataset columns"
   ]
  },
  {
   "cell_type": "code",
   "execution_count": 56,
   "id": "4910e1d3-114a-49fa-a1f2-6db4b4d65a19",
   "metadata": {},
   "outputs": [
    {
     "data": {
      "text/plain": [
       "Index(['Industry'], dtype='object')"
      ]
     },
     "execution_count": 56,
     "metadata": {},
     "output_type": "execute_result"
    }
   ],
   "source": [
    "dataset.columns"
   ]
  },
  {
   "cell_type": "markdown",
   "id": "85194529-c4cd-4842-a8ca-03c819eb4a00",
   "metadata": {},
   "source": [
    "# dataset describe "
   ]
  },
  {
   "cell_type": "code",
   "execution_count": 60,
   "id": "c1d6c51f-e131-431f-8f54-941a0a4ed679",
   "metadata": {},
   "outputs": [
    {
     "data": {
      "text/html": [
       "<div>\n",
       "<style scoped>\n",
       "    .dataframe tbody tr th:only-of-type {\n",
       "        vertical-align: middle;\n",
       "    }\n",
       "\n",
       "    .dataframe tbody tr th {\n",
       "        vertical-align: top;\n",
       "    }\n",
       "\n",
       "    .dataframe thead th {\n",
       "        text-align: right;\n",
       "    }\n",
       "</style>\n",
       "<table border=\"1\" class=\"dataframe\">\n",
       "  <thead>\n",
       "    <tr style=\"text-align: right;\">\n",
       "      <th></th>\n",
       "      <th>Industry</th>\n",
       "    </tr>\n",
       "  </thead>\n",
       "  <tbody>\n",
       "    <tr>\n",
       "      <th>count</th>\n",
       "      <td>43</td>\n",
       "    </tr>\n",
       "    <tr>\n",
       "      <th>unique</th>\n",
       "      <td>43</td>\n",
       "    </tr>\n",
       "    <tr>\n",
       "      <th>top</th>\n",
       "      <td>Accounting/Finance</td>\n",
       "    </tr>\n",
       "    <tr>\n",
       "      <th>freq</th>\n",
       "      <td>1</td>\n",
       "    </tr>\n",
       "  </tbody>\n",
       "</table>\n",
       "</div>"
      ],
      "text/plain": [
       "                  Industry\n",
       "count                   43\n",
       "unique                  43\n",
       "top     Accounting/Finance\n",
       "freq                     1"
      ]
     },
     "execution_count": 60,
     "metadata": {},
     "output_type": "execute_result"
    }
   ],
   "source": [
    "dataset.describe()"
   ]
  },
  {
   "cell_type": "code",
   "execution_count": 62,
   "id": "8301dc85-ec68-4012-8775-dd451c1f4ebb",
   "metadata": {},
   "outputs": [
    {
     "data": {
      "text/html": [
       "<div>\n",
       "<style scoped>\n",
       "    .dataframe tbody tr th:only-of-type {\n",
       "        vertical-align: middle;\n",
       "    }\n",
       "\n",
       "    .dataframe tbody tr th {\n",
       "        vertical-align: top;\n",
       "    }\n",
       "\n",
       "    .dataframe thead th {\n",
       "        text-align: right;\n",
       "    }\n",
       "</style>\n",
       "<table border=\"1\" class=\"dataframe\">\n",
       "  <thead>\n",
       "    <tr style=\"text-align: right;\">\n",
       "      <th></th>\n",
       "      <th>Industry</th>\n",
       "    </tr>\n",
       "  </thead>\n",
       "  <tbody>\n",
       "    <tr>\n",
       "      <th>38</th>\n",
       "      <td>Skilled Labor</td>\n",
       "    </tr>\n",
       "    <tr>\n",
       "      <th>39</th>\n",
       "      <td>Technology</td>\n",
       "    </tr>\n",
       "    <tr>\n",
       "      <th>40</th>\n",
       "      <td>Telecommunications</td>\n",
       "    </tr>\n",
       "    <tr>\n",
       "      <th>41</th>\n",
       "      <td>Transportation/Logistics</td>\n",
       "    </tr>\n",
       "    <tr>\n",
       "      <th>42</th>\n",
       "      <td>Other</td>\n",
       "    </tr>\n",
       "  </tbody>\n",
       "</table>\n",
       "</div>"
      ],
      "text/plain": [
       "                    Industry\n",
       "38             Skilled Labor\n",
       "39                Technology\n",
       "40        Telecommunications\n",
       "41  Transportation/Logistics\n",
       "42                     Other"
      ]
     },
     "execution_count": 62,
     "metadata": {},
     "output_type": "execute_result"
    }
   ],
   "source": [
    "dataset.tail()"
   ]
  },
  {
   "cell_type": "code",
   "execution_count": null,
   "id": "677f5d00-a1ac-4ec0-a455-97e3d1591656",
   "metadata": {},
   "outputs": [],
   "source": []
  }
 ],
 "metadata": {
  "kernelspec": {
   "display_name": "Python 3 (ipykernel)",
   "language": "python",
   "name": "python3"
  },
  "language_info": {
   "codemirror_mode": {
    "name": "ipython",
    "version": 3
   },
   "file_extension": ".py",
   "mimetype": "text/x-python",
   "name": "python",
   "nbconvert_exporter": "python",
   "pygments_lexer": "ipython3",
   "version": "3.12.4"
  }
 },
 "nbformat": 4,
 "nbformat_minor": 5
}
